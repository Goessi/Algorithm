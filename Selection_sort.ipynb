{
 "cells": [
  {
   "cell_type": "markdown",
   "metadata": {},
   "source": [
    "## 数据和链表"
   ]
  },
  {
   "cell_type": "markdown",
   "metadata": {},
   "source": [
    "### 数组"
   ]
  },
  {
   "cell_type": "markdown",
   "metadata": {},
   "source": [
    "1. 数组中元素在内存中都是相连的\n",
    "2. 如果需要加入元素而后面内存被占用，数组整体需要搬迁\n",
    "3. 解决方法\n",
    "    提前留好内存\n",
    "    但是内存不用完会浪费内存，超出预留内存还是需要搬迁\n",
    "4. 跳跃读取元素，数组效率高\n",
    "5. 读取 O(1)\n",
    "6. 插入 O(n)\n",
    "7. 删除 O(n)"
   ]
  },
  {
   "cell_type": "markdown",
   "metadata": {},
   "source": [
    "### 链表"
   ]
  },
  {
   "cell_type": "markdown",
   "metadata": {},
   "source": [
    "1. 链表中元素可以储存在内存仍以地方\n",
    "2. 每个元素都储存了下一个元素的地址\n",
    "3. 链表在插入元素中有独特优势\n",
    "4. 同时读取所有元素，链表效率贼高\n",
    "5. 读取 O(n)\n",
    "6. 插入 O(1)\n",
    "7. 删除 O(1)"
   ]
  },
  {
   "cell_type": "code",
   "execution_count": 5,
   "metadata": {},
   "outputs": [],
   "source": [
    "def find_small(alist):\n",
    "    num = 0\n",
    "    value = alist[0]\n",
    "    for i in range(len(alist)):\n",
    "         if alist[i] < value:\n",
    "                num = i\n",
    "                value = alist[i]\n",
    "    return num\n",
    "def selection_sort(alist):\n",
    "    new = []\n",
    "    for i in range(len(alist)):\n",
    "        num = find_small(alist)\n",
    "        new.append(alist[num])\n",
    "        alist.pop(num)\n",
    "    return new"
   ]
  },
  {
   "cell_type": "code",
   "execution_count": 6,
   "metadata": {},
   "outputs": [
    {
     "name": "stdout",
     "output_type": "stream",
     "text": [
      "[1, 2, 2, 3, 4, 5, 10]\n"
     ]
    }
   ],
   "source": [
    "print(selection_sort([1,4,2,5,10,2,3]))"
   ]
  },
  {
   "cell_type": "code",
   "execution_count": null,
   "metadata": {
    "collapsed": true
   },
   "outputs": [],
   "source": []
  }
 ],
 "metadata": {
  "kernelspec": {
   "display_name": "Python 3",
   "language": "python",
   "name": "python3"
  },
  "language_info": {
   "codemirror_mode": {
    "name": "ipython",
    "version": 3
   },
   "file_extension": ".py",
   "mimetype": "text/x-python",
   "name": "python",
   "nbconvert_exporter": "python",
   "pygments_lexer": "ipython3",
   "version": "3.6.3"
  }
 },
 "nbformat": 4,
 "nbformat_minor": 2
}
