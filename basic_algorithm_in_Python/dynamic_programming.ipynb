{
 "cells": [
  {
   "cell_type": "markdown",
   "metadata": {},
   "source": [
    "# 动态规划"
   ]
  },
  {
   "cell_type": "markdown",
   "metadata": {},
   "source": [
    "### 动态规划可以帮助你在给定约束条件下找到最优解\n",
    "### 在问题可以分成彼此独立的且离散的子问题时，可用动态规划\n",
    "### 动态规划都涉及网格，格内记录需要优化的值"
   ]
  },
  {
   "cell_type": "code",
   "execution_count": 34,
   "metadata": {},
   "outputs": [],
   "source": [
    "import numpy as np\n",
    "def longest_common_substring(word1,word2):\n",
    "    col_num = len(word1)\n",
    "    row_num = len(word2)\n",
    "    col_word = [x for x in word1 if x.isalpha()]\n",
    "    row_word = [x for x in word2 if x.isalpha()]\n",
    "    \n",
    "    print(col_word)\n",
    "    print(row_word)\n",
    "\n",
    "    grid = np.zeros((row_num+1,col_num+1))\n",
    "    g_max = 0\n",
    "    \n",
    "    for i in range(row_num):\n",
    "        for j in range(col_num):\n",
    "            if row_word[i] == col_word[j]:\n",
    "                grid[i+1][j+1] = grid[i][j] + 1\n",
    "                if grid[i+1][j+1] > g_max:\n",
    "                    g_max = grid[i+1][j+1]\n",
    "    print(grid)\n",
    "    return g_max"
   ]
  },
  {
   "cell_type": "code",
   "execution_count": 35,
   "metadata": {},
   "outputs": [
    {
     "name": "stdout",
     "output_type": "stream",
     "text": [
      "['h', 'a', 'h', 'a', 'h', 'a']\n",
      "['q', 'i', 'n', 'h', 'a', 'h', 'a']\n",
      "[[ 0.  0.  0.  0.  0.  0.  0.]\n",
      " [ 0.  0.  0.  0.  0.  0.  0.]\n",
      " [ 0.  0.  0.  0.  0.  0.  0.]\n",
      " [ 0.  0.  0.  0.  0.  0.  0.]\n",
      " [ 0.  1.  0.  1.  0.  1.  0.]\n",
      " [ 0.  0.  2.  0.  2.  0.  2.]\n",
      " [ 0.  1.  0.  3.  0.  3.  0.]\n",
      " [ 0.  0.  2.  0.  4.  0.  4.]]\n"
     ]
    },
    {
     "data": {
      "text/plain": [
       "4.0"
      ]
     },
     "execution_count": 35,
     "metadata": {},
     "output_type": "execute_result"
    }
   ],
   "source": [
    "longest_common_substring('hahaha','qinhaha')"
   ]
  },
  {
   "cell_type": "code",
   "execution_count": 130,
   "metadata": {
    "collapsed": true
   },
   "outputs": [],
   "source": [
    "def longest_common_sequence(w1,w2):\n",
    "    v = [[0 for x in range(len(w1)+1)]for y in range(len(w2)+1)]\n",
    "    d = [[None for x in range(len(w1)+1)]for y in range(len(w2)+1)]\n",
    "        \n",
    "    for i in range(len(w2)):\n",
    "        for j in range(len(w1)):\n",
    "            if w2[i] == w1[j]:\n",
    "                v[i+1][j+1] = v[i][j]+1\n",
    "                d[i+1][j+1] = 'ok'\n",
    "            elif v[i+1][j] > v[i][j+1]:\n",
    "                v[i+1][j+1] = v[i+1][j]\n",
    "                d[i+1][j+1] = 'left'\n",
    "            else:\n",
    "                v[i+1][j+1] = v[i][j+1]\n",
    "                d[i+1][j+1] = 'up'\n",
    "       \n",
    "    p1 = len(w2)\n",
    "    p2 = len(w1)\n",
    "    l = []\n",
    "    while v[p1][p2]:\n",
    "        c = d[p1][p2]\n",
    "        if c == 'ok':\n",
    "            l.append(w2[p1-1])\n",
    "            p1 -= 1\n",
    "            p2 -= 1\n",
    "        elif c == 'left':\n",
    "            p2 -= 1\n",
    "        elif c == 'up':\n",
    "            p1 -= 1\n",
    "    l = l[::-1] \n",
    "    return ''.join(l)"
   ]
  },
  {
   "cell_type": "code",
   "execution_count": 131,
   "metadata": {},
   "outputs": [
    {
     "data": {
      "text/plain": [
       "'haha'"
      ]
     },
     "execution_count": 131,
     "metadata": {},
     "output_type": "execute_result"
    }
   ],
   "source": [
    "longest_common_sequence('haha','qinhaha')"
   ]
  },
  {
   "cell_type": "code",
   "execution_count": null,
   "metadata": {
    "collapsed": true
   },
   "outputs": [],
   "source": []
  }
 ],
 "metadata": {
  "kernelspec": {
   "display_name": "Python 3",
   "language": "python",
   "name": "python3"
  },
  "language_info": {
   "codemirror_mode": {
    "name": "ipython",
    "version": 3
   },
   "file_extension": ".py",
   "mimetype": "text/x-python",
   "name": "python",
   "nbconvert_exporter": "python",
   "pygments_lexer": "ipython3",
   "version": "3.6.3"
  }
 },
 "nbformat": 4,
 "nbformat_minor": 2
}
