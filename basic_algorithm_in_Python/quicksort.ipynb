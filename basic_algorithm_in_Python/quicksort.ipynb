{
 "cells": [
  {
   "cell_type": "markdown",
   "metadata": {},
   "source": [
    "# Quick_sort"
   ]
  },
  {
   "cell_type": "markdown",
   "metadata": {},
   "source": [
    "#### 最糟的状况栈长为 O(n)\n",
    "#### 最佳的状况栈长为 O(logn)\n",
    "#### 最佳状况也是平均状况，快速排序的平均运行时间为 O(nlogn)"
   ]
  },
  {
   "cell_type": "code",
   "execution_count": 9,
   "metadata": {
    "collapsed": true
   },
   "outputs": [],
   "source": [
    "def quicksort(alist):\n",
    "    if len(alist) < 2:\n",
    "        return alist\n",
    "    else:\n",
    "        pivot = [alist[0]]\n",
    "        less = []\n",
    "        more = []\n",
    "        for item in alist[1:]:\n",
    "            if item <= pivot[0]:\n",
    "                less.append(item)\n",
    "            else:\n",
    "                more.append(item)\n",
    "        \n",
    "        return quicksort(less)+pivot+quicksort(more)"
   ]
  },
  {
   "cell_type": "code",
   "execution_count": 10,
   "metadata": {},
   "outputs": [
    {
     "name": "stdout",
     "output_type": "stream",
     "text": [
      "[0, 1, 1, 1, 2, 2, 3, 3, 3, 5, 5, 6, 7, 8, 23, 45]\n"
     ]
    }
   ],
   "source": [
    "print(quicksort([1,3,1,2,3,5,7,8,2,3,1,5,6,45,23,0]))"
   ]
  },
  {
   "cell_type": "code",
   "execution_count": null,
   "metadata": {
    "collapsed": true
   },
   "outputs": [],
   "source": []
  }
 ],
 "metadata": {
  "kernelspec": {
   "display_name": "Python 3",
   "language": "python",
   "name": "python3"
  },
  "language_info": {
   "codemirror_mode": {
    "name": "ipython",
    "version": 3
   },
   "file_extension": ".py",
   "mimetype": "text/x-python",
   "name": "python",
   "nbconvert_exporter": "python",
   "pygments_lexer": "ipython3",
   "version": "3.6.3"
  }
 },
 "nbformat": 4,
 "nbformat_minor": 2
}
